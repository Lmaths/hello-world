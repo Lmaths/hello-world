{
 "cells": [
  {
   "cell_type": "code",
   "execution_count": 17,
   "metadata": {
    "collapsed": false
   },
   "outputs": [],
   "source": [
    "def mn(m,n,m_str):\n",
    "    if(float(m_str)==int(float(m_str))):\n",
    "        m_number = int(m_str,m)#get the numeric value of m\n",
    "        symbol = ''\n",
    "\n",
    "        if(m_number<0):#figure out the final symbol\n",
    "                m_number = abs(m_number)#get positive value\n",
    "                symbol = '-'\n",
    "\n",
    "        if(n == 10):# m convert to 10\n",
    "                print(symbol+str(m_number))\n",
    "        else:#10 convert to n\n",
    "                ans = ''\n",
    "                while(m_number):\n",
    "                        ans = str(m_number%n) + ans#doing the mod\n",
    "                        m_number = m_number//n#warning!!: using // not /\n",
    "                #print(symbol+ans)#print the answer\n",
    "                return symbol+ans\n",
    "    else:\n",
    "        #print('input is not integer')\n",
    "        return 'NONE'\n"
   ]
  },
  {
   "cell_type": "code",
   "execution_count": null,
   "metadata": {
    "collapsed": true
   },
   "outputs": [],
   "source": [
    "a = mn(2, 10, '1001')\n",
    "if (a!='NONE'):\n",
    "    print(a)\n",
    "else:\n",
    "    print(a)\n"
   ]
  },
  {
   "cell_type": "code",
   "execution_count": null,
   "metadata": {
    "collapsed": true
   },
   "outputs": [],
   "source": []
  }
 ],
 "metadata": {
  "kernelspec": {
   "display_name": "Python 3",
   "language": "python",
   "name": "python3"
  },
  "language_info": {
   "codemirror_mode": {
    "name": "ipython",
    "version": 3
   },
   "file_extension": ".py",
   "mimetype": "text/x-python",
   "name": "python",
   "nbconvert_exporter": "python",
   "pygments_lexer": "ipython3",
   "version": "3.5.1"
  }
 },
 "nbformat": 4,
 "nbformat_minor": 1
}
