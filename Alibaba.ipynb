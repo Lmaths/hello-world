{
 "cells": [
  {
   "cell_type": "markdown",
   "metadata": {},
   "source": [
    "# Alibaba examination question\n",
    "Copyright &copy; 2016 Jack Liu\n",
    "\n",
    "## Question\n",
    "Please give the single digits of integer part of $(2+\\sqrt 3)^{100}$\n",
    "\n",
    "\n",
    "### Answer\n",
    "$$\n",
    "\\begin{aligned}\n",
    "(2+\\sqrt 3)^{100} + (2-\\sqrt 3)^{100}\n",
    "& =  \\sum^{100}_{i=0} \\binom{i}{100} 2^{100-i} (\\sqrt 3)^i +\n",
    "     \\sum^{100}_{i=0} \\binom{i}{100} 2^{100-i} (-\\sqrt 3)^i   \\\\\n",
    "& = 2 \\sum^{50}_{k=0} \\binom{2k}{100} 2^{100-2k} (\\sqrt 3)^{2k} \\\\\n",
    "& = 2 \\sum^{50}_{k=0} \\binom{2k}{100} 4^{50-k} 3^k\n",
    "\\end{aligned}\n",
    "$$\n",
    "\n",
    "It's a positive integer，and $ 0< 2-\\sqrt3 < 1 $，then $0< (2-\\sqrt 3)^{100} <1 $.\n",
    "\n",
    "So,\n",
    "$$ 2 \\sum^{50}_{k=0} \\binom{2k}{100} 4^{50-k} 3^k - 1\n",
    "< 2 \\sum^{50}_{k=0} \\binom{2k}{100} 4^{50-k} 3^k $$\n",
    "\n",
    "So, the integer part of $(2+\\sqrt 3)^{100}$ is\n",
    "$$2 \\sum^{50}_{k=0} \\binom{2k}{100} 4^{50-k} 3^k - 1$$\n",
    "\n",
    "Then solve the following congruence equation\n",
    "\n",
    "$$ 2 \\sum^{50}_{k=0} \\binom{2k}{100} 4^{50-k} 3^k - 1 \\equiv result \\pmod{10} $$\n",
    "\n",
    "We just need to solve this\n",
    "$$ \\sum^{50}_{k=0} \\binom{2k}{100} 4^{50-k} 3^k \\equiv r \\pmod{5} $$\n",
    "\n",
    "and then we can get\n",
    "$$ 2r-1 \\equiv result \\pmod{10} $$\n",
    "\n",
    "\n",
    "#### Solve the sub-problem\n",
    "$$ \\sum^{50}_{k=0} \\binom{2k}{100} 4^{50-k} 3^k \\equiv r \\pmod{5} $$\n",
    "\n",
    "$$\n",
    "\\begin{aligned}\n",
    "\\sum^{50}_{k=0} \\binom{2k}{100} 4^{50-k} 3^k\n",
    "& \\equiv \\binom{0}{100} 4^{50} +  \\binom{50}{100} 4^{50-25} 3^{25} + \\binom{100}{100} 3^{50}\\\\\n",
    "& \\equiv \\binom{0}{4} \\binom{0}{0} \\binom{0}{0} \\cdot  1 +  \\binom{2}{4} \\binom{0}{0} \\binom{0}{0} \\cdot 4 \\cdot 3 + \\binom{100}{100} \\cdot 4 \\\\\n",
    "& \\equiv 1 + 1 \\cdot 4 \\cdot 3 + 4 \\\\\n",
    "& \\equiv 2 \\\\\n",
    "& \\equiv r \\pmod{5}\n",
    "\\end{aligned}\n",
    "$$\n",
    "\n",
    "So,\n",
    "$$ result \\equiv 3 \\pmod{10} $$\n",
    "\n",
    "**[Thanks to Lucas's theorem!](https://en.wikipedia.org/wiki/Lucas%27s_theorem)**"
   ]
  },
  {
   "cell_type": "code",
   "execution_count": null,
   "metadata": {
    "collapsed": true
   },
   "outputs": [],
   "source": []
  }
 ],
 "metadata": {
  "kernelspec": {
   "display_name": "Python 3",
   "language": "python",
   "name": "python3"
  },
  "language_info": {
   "codemirror_mode": {
    "name": "ipython",
    "version": 3
   },
   "file_extension": ".py",
   "mimetype": "text/x-python",
   "name": "python",
   "nbconvert_exporter": "python",
   "pygments_lexer": "ipython3",
   "version": "3.5.1"
  }
 },
 "nbformat": 4,
 "nbformat_minor": 1
}
