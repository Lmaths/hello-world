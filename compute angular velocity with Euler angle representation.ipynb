{
 "cells": [
  {
   "cell_type": "code",
   "execution_count": 1,
   "metadata": {
    "collapsed": true
   },
   "outputs": [],
   "source": [
    "from __future__ import division\n",
    "from sympy import *\n",
    "init_printing() \n",
    "\n",
    "x, y, z, t = symbols('x y z t')"
   ]
  },
  {
   "cell_type": "code",
   "execution_count": 2,
   "metadata": {
    "collapsed": true
   },
   "outputs": [],
   "source": [
    "x= Function('x')(t)\n",
    "y=Function('y')(t)\n",
    "z=Function('z')(t)"
   ]
  },
  {
   "cell_type": "markdown",
   "metadata": {},
   "source": [
    "We assume B rotate relative A, using  ZXZ for Euler angles."
   ]
  },
  {
   "cell_type": "code",
   "execution_count": 3,
   "metadata": {},
   "outputs": [
    {
     "data": {
      "text/latex": [
       "$$\\left[\\begin{matrix}1 & 0 & 0\\\\0 & 1 & 0\\\\0 & 0 & 1\\end{matrix}\\right]$$"
      ],
      "text/plain": [
       "⎡1  0  0⎤\n",
       "⎢       ⎥\n",
       "⎢0  1  0⎥\n",
       "⎢       ⎥\n",
       "⎣0  0  1⎦"
      ]
     },
     "execution_count": 3,
     "metadata": {},
     "output_type": "execute_result"
    }
   ],
   "source": [
    "# define rotation matrix\n",
    "trans_zxz = Matrix([[- sin(x)*cos(y)*sin(z) + cos(x)*cos(z), -sin(x)*cos(y)*cos(z) - cos(x)*sin(z), sin(x)*sin(y)],\\\n",
    "                    [cos(x)*cos(y)*sin(z) + sin(x)*cos(z), cos(x)*cos(y)*cos(z) - sin(x)*sin(z), -cos(x)*sin(y)], \\\n",
    "                    [sin(y)*sin(z), sin(y)*cos(z), cos(y)]])\n",
    "\n",
    "# validate the rotation matrix using T.transpose()* T = I \n",
    "trigsimp(trans_zxz*trans_zxz.transpose())"
   ]
  },
  {
   "cell_type": "markdown",
   "metadata": {},
   "source": [
    "compute the $S(\\omega) \\in {\\mathfrak {so}}(3)$, where $S(\\omega) = \\frac{d \\mathbf R}{dt}\\mathbf R^{\\mathrm {T}}$"
   ]
  },
  {
   "cell_type": "code",
   "execution_count": 4,
   "metadata": {
    "scrolled": false
   },
   "outputs": [
    {
     "data": {
      "text/latex": [
       "$$\\left[\\begin{matrix}0 & - (\\cos{\\left (y{\\left (t \\right )} \\right )} \\frac{d}{d t} z{\\left (t \\right )} + \\frac{d}{d t} x{\\left (t \\right )}) & \\sin{\\left (x{\\left (t \\right )} \\right )} \\frac{d}{d t} y{\\left (t \\right )} - \\sin{\\left (y{\\left (t \\right )} \\right )} \\cos{\\left (x{\\left (t \\right )} \\right )} \\frac{d}{d t} z{\\left (t \\right )}\\\\\\cos{\\left (y{\\left (t \\right )} \\right )} \\frac{d}{d t} z{\\left (t \\right )} + \\frac{d}{d t} x{\\left (t \\right )} & 0 & - (\\sin{\\left (x{\\left (t \\right )} \\right )} \\sin{\\left (y{\\left (t \\right )} \\right )} \\frac{d}{d t} z{\\left (t \\right )} + \\cos{\\left (x{\\left (t \\right )} \\right )} \\frac{d}{d t} y{\\left (t \\right )})\\\\- \\sin{\\left (x{\\left (t \\right )} \\right )} \\frac{d}{d t} y{\\left (t \\right )} + \\sin{\\left (y{\\left (t \\right )} \\right )} \\cos{\\left (x{\\left (t \\right )} \\right )} \\frac{d}{d t} z{\\left (t \\right )} & \\sin{\\left (x{\\left (t \\right )} \\right )} \\sin{\\left (y{\\left (t \\right )} \\right )} \\frac{d}{d t} z{\\left (t \\right )} + \\cos{\\left (x{\\left (t \\right )} \\right )} \\frac{d}{d t} y{\\left (t \\right )} & 0\\end{matrix}\\right]$$"
      ],
      "text/plain": [
       "⎡                                                              ⎛          d   \n",
       "⎢                         0                                   -⎜cos(y(t))⋅──(z\n",
       "⎢                                                              ⎝          dt  \n",
       "⎢                                                                             \n",
       "⎢                     d          d                                            \n",
       "⎢           cos(y(t))⋅──(z(t)) + ──(x(t))                                     \n",
       "⎢                     dt         dt                                           \n",
       "⎢                                                                             \n",
       "⎢            d                              d                             d   \n",
       "⎢- sin(x(t))⋅──(y(t)) + sin(y(t))⋅cos(x(t))⋅──(z(t))  sin(x(t))⋅sin(y(t))⋅──(z\n",
       "⎣            dt                             dt                            dt  \n",
       "\n",
       "       d       ⎞                      d                              d        \n",
       "(t)) + ──(x(t))⎟            sin(x(t))⋅──(y(t)) - sin(y(t))⋅cos(x(t))⋅──(z(t)) \n",
       "       dt      ⎠                      dt                             dt       \n",
       "                                                                              \n",
       "                            ⎛                    d                    d       \n",
       "0                          -⎜sin(x(t))⋅sin(y(t))⋅──(z(t)) + cos(x(t))⋅──(y(t))\n",
       "                            ⎝                    dt                   dt      \n",
       "                                                                              \n",
       "                 d                                                            \n",
       "(t)) + cos(x(t))⋅──(y(t))                           0                         \n",
       "                 dt                                                           \n",
       "\n",
       " ⎤\n",
       " ⎥\n",
       " ⎥\n",
       " ⎥\n",
       "⎞⎥\n",
       "⎟⎥\n",
       "⎠⎥\n",
       " ⎥\n",
       " ⎥\n",
       " ⎥\n",
       " ⎦"
      ]
     },
     "execution_count": 4,
     "metadata": {},
     "output_type": "execute_result"
    }
   ],
   "source": [
    "result = trigsimp(diff(trans_zxz,t)*(trans_zxz.transpose()))\n",
    "\n",
    "result"
   ]
  },
  {
   "cell_type": "markdown",
   "metadata": {},
   "source": [
    "transform the equations to linear matrix equation"
   ]
  },
  {
   "cell_type": "code",
   "execution_count": 5,
   "metadata": {},
   "outputs": [
    {
     "data": {
      "text/latex": [
       "$$\\left ( \\left[\\begin{matrix}0 & \\cos{\\left (x{\\left (t \\right )} \\right )} & \\sin{\\left (x{\\left (t \\right )} \\right )} \\sin{\\left (y{\\left (t \\right )} \\right )}\\\\0 & \\sin{\\left (x{\\left (t \\right )} \\right )} & - \\sin{\\left (y{\\left (t \\right )} \\right )} \\cos{\\left (x{\\left (t \\right )} \\right )}\\\\1 & 0 & \\cos{\\left (y{\\left (t \\right )} \\right )}\\end{matrix}\\right], \\quad \\left[\\begin{matrix}0\\\\0\\\\0\\end{matrix}\\right]\\right )$$"
      ],
      "text/plain": [
       "⎛⎡0  cos(x(t))  sin(x(t))⋅sin(y(t)) ⎤  ⎡0⎤⎞\n",
       "⎜⎢                                  ⎥  ⎢ ⎥⎟\n",
       "⎜⎢0  sin(x(t))  -sin(y(t))⋅cos(x(t))⎥, ⎢0⎥⎟\n",
       "⎜⎢                                  ⎥  ⎢ ⎥⎟\n",
       "⎝⎣1      0           cos(y(t))      ⎦  ⎣0⎦⎠"
      ]
     },
     "execution_count": 5,
     "metadata": {},
     "output_type": "execute_result"
    }
   ],
   "source": [
    "# make eq1=a*x+b, eq2=c*x+d to form (eq1, eq2) = Cx + B\n",
    "linear_eq_to_matrix([-result[1,2], result[0,2], -result[0,1]], [Derivative(x,t), Derivative(y,t), Derivative(z,t)] )"
   ]
  },
  {
   "cell_type": "markdown",
   "metadata": {},
   "source": [
    "Get the E in $\\omega = E\\dot{\\phi}$. This is what we want."
   ]
  },
  {
   "cell_type": "code",
   "execution_count": 6,
   "metadata": {},
   "outputs": [],
   "source": [
    "eomega = _[0]"
   ]
  },
  {
   "cell_type": "code",
   "execution_count": 7,
   "metadata": {
    "scrolled": false
   },
   "outputs": [
    {
     "data": {
      "text/latex": [
       "$$\\left[\\begin{matrix}0 & \\cos{\\left (x{\\left (t \\right )} \\right )} & \\sin{\\left (x{\\left (t \\right )} \\right )} \\sin{\\left (y{\\left (t \\right )} \\right )}\\\\0 & \\sin{\\left (x{\\left (t \\right )} \\right )} & - \\sin{\\left (y{\\left (t \\right )} \\right )} \\cos{\\left (x{\\left (t \\right )} \\right )}\\\\1 & 0 & \\cos{\\left (y{\\left (t \\right )} \\right )}\\end{matrix}\\right]$$"
      ],
      "text/plain": [
       "⎡0  cos(x(t))  sin(x(t))⋅sin(y(t)) ⎤\n",
       "⎢                                  ⎥\n",
       "⎢0  sin(x(t))  -sin(y(t))⋅cos(x(t))⎥\n",
       "⎢                                  ⎥\n",
       "⎣1      0           cos(y(t))      ⎦"
      ]
     },
     "execution_count": 7,
     "metadata": {},
     "output_type": "execute_result"
    }
   ],
   "source": [
    "eomega"
   ]
  },
  {
   "cell_type": "markdown",
   "metadata": {},
   "source": [
    "If we want to get the $\\omega$ of B expressed by B, then we should use the ${trans\\_zxz}^{-1}$ applied on the matrix. Here just coordinate representation not the $\\omega$ of A relative to B."
   ]
  },
  {
   "cell_type": "code",
   "execution_count": 8,
   "metadata": {
    "scrolled": true
   },
   "outputs": [
    {
     "data": {
      "text/latex": [
       "$$\\left[\\begin{matrix}\\sin{\\left (y{\\left (t \\right )} \\right )} \\sin{\\left (z{\\left (t \\right )} \\right )} & \\cos{\\left (z{\\left (t \\right )} \\right )} & 0\\\\\\sin{\\left (y{\\left (t \\right )} \\right )} \\cos{\\left (z{\\left (t \\right )} \\right )} & - \\sin{\\left (z{\\left (t \\right )} \\right )} & 0\\\\\\cos{\\left (y{\\left (t \\right )} \\right )} & 0 & 1\\end{matrix}\\right]$$"
      ],
      "text/plain": [
       "⎡sin(y(t))⋅sin(z(t))  cos(z(t))   0⎤\n",
       "⎢                                  ⎥\n",
       "⎢sin(y(t))⋅cos(z(t))  -sin(z(t))  0⎥\n",
       "⎢                                  ⎥\n",
       "⎣     cos(y(t))           0       1⎦"
      ]
     },
     "execution_count": 8,
     "metadata": {},
     "output_type": "execute_result"
    }
   ],
   "source": [
    "trigsimp(trans_zxz.transpose()*eomega)"
   ]
  },
  {
   "cell_type": "markdown",
   "metadata": {},
   "source": [
    "Here we go to ZYZ"
   ]
  },
  {
   "cell_type": "code",
   "execution_count": 9,
   "metadata": {},
   "outputs": [
    {
     "data": {
      "text/latex": [
       "$$\\left[\\begin{matrix}0 & - \\sin{\\left (x{\\left (t \\right )} \\right )} & \\sin{\\left (y{\\left (t \\right )} \\right )} \\cos{\\left (x{\\left (t \\right )} \\right )}\\\\0 & \\cos{\\left (x{\\left (t \\right )} \\right )} & \\sin{\\left (x{\\left (t \\right )} \\right )} \\sin{\\left (y{\\left (t \\right )} \\right )}\\\\1 & 0 & \\cos{\\left (y{\\left (t \\right )} \\right )}\\end{matrix}\\right]$$"
      ],
      "text/plain": [
       "⎡0  -sin(x(t))  sin(y(t))⋅cos(x(t))⎤\n",
       "⎢                                  ⎥\n",
       "⎢0  cos(x(t))   sin(x(t))⋅sin(y(t))⎥\n",
       "⎢                                  ⎥\n",
       "⎣1      0            cos(y(t))     ⎦"
      ]
     },
     "execution_count": 9,
     "metadata": {},
     "output_type": "execute_result"
    }
   ],
   "source": [
    "trans_zyz = Matrix([[cos(x)*cos(y)*cos(z) - sin(x)*sin(z), -cos(x)*cos(y)*sin(z) - sin(x)*cos(z), cos(x)*sin(y)],\\\n",
    "                    [sin(x)*cos(y)*cos(z) + cos(x)*sin(z), -sin(x)*cos(y)*sin(z) + cos(x)*cos(z), sin(x)*sin(y)], \\\n",
    "                    [-sin(y)*cos(z), sin(y)*sin(z), cos(y)]])\n",
    "\n",
    "result_zyz = trigsimp(diff(trans_zyz,t)*(trans_zyz.transpose()))\n",
    "                   \n",
    "matrix_eq_zyz = linear_eq_to_matrix([-result_zyz[1,2], result_zyz[0,2], -result_zyz[0,1]], [Derivative(x,t), Derivative(y,t), Derivative(z,t)] )\n",
    "                   \n",
    "eomega_zyz = matrix_eq_zyz[0]\n",
    "                   \n",
    "eomega_zyz"
   ]
  },
  {
   "cell_type": "code",
   "execution_count": 10,
   "metadata": {},
   "outputs": [
    {
     "data": {
      "text/latex": [
       "$$\\left[\\begin{matrix}- \\sin{\\left (y{\\left (t \\right )} \\right )} \\cos{\\left (z{\\left (t \\right )} \\right )} & \\sin{\\left (z{\\left (t \\right )} \\right )} & 0\\\\\\sin{\\left (y{\\left (t \\right )} \\right )} \\sin{\\left (z{\\left (t \\right )} \\right )} & \\cos{\\left (z{\\left (t \\right )} \\right )} & 0\\\\\\cos{\\left (y{\\left (t \\right )} \\right )} & 0 & 1\\end{matrix}\\right]$$"
      ],
      "text/plain": [
       "⎡-sin(y(t))⋅cos(z(t))  sin(z(t))  0⎤\n",
       "⎢                                  ⎥\n",
       "⎢sin(y(t))⋅sin(z(t))   cos(z(t))  0⎥\n",
       "⎢                                  ⎥\n",
       "⎣     cos(y(t))            0      1⎦"
      ]
     },
     "execution_count": 10,
     "metadata": {},
     "output_type": "execute_result"
    }
   ],
   "source": [
    "trigsimp(trans_zyz.transpose()*eomega_zyz)"
   ]
  },
  {
   "cell_type": "markdown",
   "metadata": {},
   "source": [
    "Here we go to ZYX"
   ]
  },
  {
   "cell_type": "code",
   "execution_count": 11,
   "metadata": {},
   "outputs": [
    {
     "data": {
      "text/latex": [
       "$$\\left[\\begin{matrix}0 & - \\sin{\\left (x{\\left (t \\right )} \\right )} & \\cos{\\left (x{\\left (t \\right )} \\right )} \\cos{\\left (y{\\left (t \\right )} \\right )}\\\\0 & \\cos{\\left (x{\\left (t \\right )} \\right )} & \\sin{\\left (x{\\left (t \\right )} \\right )} \\cos{\\left (y{\\left (t \\right )} \\right )}\\\\1 & 0 & - \\sin{\\left (y{\\left (t \\right )} \\right )}\\end{matrix}\\right]$$"
      ],
      "text/plain": [
       "⎡0  -sin(x(t))  cos(x(t))⋅cos(y(t))⎤\n",
       "⎢                                  ⎥\n",
       "⎢0  cos(x(t))   sin(x(t))⋅cos(y(t))⎥\n",
       "⎢                                  ⎥\n",
       "⎣1      0           -sin(y(t))     ⎦"
      ]
     },
     "execution_count": 11,
     "metadata": {},
     "output_type": "execute_result"
    }
   ],
   "source": [
    "trans_zyx = Matrix([[cos(x)*cos(y), cos(x)*sin(y)*sin(z) - sin(x)*cos(z), cos(x)*sin(y)*cos(z) + sin(x)*sin(z)],\\\n",
    "                    [sin(x)*cos(y), sin(x)*sin(y)*sin(z) + cos(x)*cos(z), sin(x)*sin(y)*cos(z) - cos(x)*sin(z)], \\\n",
    "                    [-sin(y), cos(y)*sin(z), cos(y)*cos(z)]])\n",
    "\n",
    "result_zyx = trigsimp(diff(trans_zyx,t)*(trans_zyx.transpose()))\n",
    "                   \n",
    "matrix_eq_zyx = linear_eq_to_matrix([-result_zyx[1,2], result_zyx[0,2], -result_zyx[0,1]], [Derivative(x,t), Derivative(y,t), Derivative(z,t)] )\n",
    "                   \n",
    "eomega_zyx = matrix_eq_zyx[0]\n",
    "                   \n",
    "eomega_zyx"
   ]
  },
  {
   "cell_type": "code",
   "execution_count": 12,
   "metadata": {
    "scrolled": true
   },
   "outputs": [
    {
     "data": {
      "text/latex": [
       "$$\\left[\\begin{matrix}- \\sin{\\left (y{\\left (t \\right )} \\right )} & 0 & 1\\\\\\sin{\\left (z{\\left (t \\right )} \\right )} \\cos{\\left (y{\\left (t \\right )} \\right )} & \\cos{\\left (z{\\left (t \\right )} \\right )} & 0\\\\\\cos{\\left (y{\\left (t \\right )} \\right )} \\cos{\\left (z{\\left (t \\right )} \\right )} & - \\sin{\\left (z{\\left (t \\right )} \\right )} & 0\\end{matrix}\\right]$$"
      ],
      "text/plain": [
       "⎡    -sin(y(t))           0       1⎤\n",
       "⎢                                  ⎥\n",
       "⎢sin(z(t))⋅cos(y(t))  cos(z(t))   0⎥\n",
       "⎢                                  ⎥\n",
       "⎣cos(y(t))⋅cos(z(t))  -sin(z(t))  0⎦"
      ]
     },
     "execution_count": 12,
     "metadata": {},
     "output_type": "execute_result"
    }
   ],
   "source": [
    "trigsimp(trans_zyx.transpose()*eomega_zyx)"
   ]
  },
  {
   "cell_type": "markdown",
   "metadata": {},
   "source": [
    "we get\n",
    "$$ \\begin{pmatrix} \\omega_x  \\\\ \\omega_y \\\\ \\omega_z \\\\\\end{pmatrix}  =\n",
    "\\left[\\begin{matrix}- \\sin{\\left (y{\\left (t \\right )} \\right )} & 0 & 1\\\\\\sin{\\left (z{\\left (t \\right )} \\right )} \\cos{\\left (y{\\left (t \\right )} \\right )} & \\cos{\\left (z{\\left (t \\right )} \\right )} & 0\\\\\\cos{\\left (y{\\left (t \\right )} \\right )} \\cos{\\left (z{\\left (t \\right )} \\right )} & - \\sin{\\left (z{\\left (t \\right )} \\right )} & 0\\end{matrix}\\right]  \\begin{pmatrix} \\dot \\alpha  \\\\ \\dot \\beta \\\\ \\dot \\gamma \\\\\\end{pmatrix} \n",
    "$$\n",
    "\n"
   ]
  },
  {
   "cell_type": "code",
   "execution_count": 13,
   "metadata": {},
   "outputs": [
    {
     "data": {
      "text/latex": [
       "$$\\left[\\begin{matrix}0 & \\frac{\\sin{\\left (z{\\left (t \\right )} \\right )}}{\\cos{\\left (y{\\left (t \\right )} \\right )}} & \\frac{\\cos{\\left (z{\\left (t \\right )} \\right )}}{\\cos{\\left (y{\\left (t \\right )} \\right )}}\\\\0 & \\cos{\\left (z{\\left (t \\right )} \\right )} & - \\sin{\\left (z{\\left (t \\right )} \\right )}\\\\1 & \\sin{\\left (z{\\left (t \\right )} \\right )} \\tan{\\left (y{\\left (t \\right )} \\right )} & \\cos{\\left (z{\\left (t \\right )} \\right )} \\tan{\\left (y{\\left (t \\right )} \\right )}\\end{matrix}\\right]$$"
      ],
      "text/plain": [
       "⎡        sin(z(t))            cos(z(t))     ⎤\n",
       "⎢0       ─────────            ─────────     ⎥\n",
       "⎢        cos(y(t))            cos(y(t))     ⎥\n",
       "⎢                                           ⎥\n",
       "⎢0       cos(z(t))           -sin(z(t))     ⎥\n",
       "⎢                                           ⎥\n",
       "⎣1  sin(z(t))⋅tan(y(t))  cos(z(t))⋅tan(y(t))⎦"
      ]
     },
     "execution_count": 13,
     "metadata": {},
     "output_type": "execute_result"
    }
   ],
   "source": [
    "trigsimp(trigsimp((trans_zyx.transpose()*eomega_zyx)).inv())"
   ]
  },
  {
   "cell_type": "markdown",
   "metadata": {},
   "source": [
    "# Reference\n",
    "- [Robot Dynamics Lecture Notes](https://www.ethz.ch/content/dam/ethz/special-interest/mavt/robotics-n-intelligent-systems/rsl-dam/documents/RobotDynamics2016/RD2016script.pdf)\n",
    "- [Angular_velocity wikipedia](https://en.wikipedia.org/wiki/Angular_velocity)"
   ]
  }
 ],
 "metadata": {
  "kernelspec": {
   "display_name": "Python 3",
   "language": "python",
   "name": "python3"
  },
  "language_info": {
   "codemirror_mode": {
    "name": "ipython",
    "version": 3
   },
   "file_extension": ".py",
   "mimetype": "text/x-python",
   "name": "python",
   "nbconvert_exporter": "python",
   "pygments_lexer": "ipython3",
   "version": "3.6.2"
  }
 },
 "nbformat": 4,
 "nbformat_minor": 2
}
