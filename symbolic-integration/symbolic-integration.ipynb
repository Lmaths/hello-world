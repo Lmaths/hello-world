{
 "cells": [
  {
   "cell_type": "markdown",
   "metadata": {},
   "source": [
    "$$\\int_{0}^{\\infty}\\frac{1}{\\sqrt{3s+2r^{2}+h^{2}}(s+r^{2})}ds$$"
   ]
  },
  {
   "cell_type": "markdown",
   "metadata": {},
   "source": [
    "### Python (Sympy) Code:"
   ]
  },
  {
   "cell_type": "code",
   "execution_count": 1,
   "metadata": {
    "collapsed": false
   },
   "outputs": [],
   "source": [
    "# some import, this is a little hard for a beginner\n",
    "from sympy import *\n",
    "from sympy.abc import x,y,a,b\n",
    "init_printing()"
   ]
  },
  {
   "cell_type": "code",
   "execution_count": 2,
   "metadata": {
    "collapsed": false,
    "scrolled": true
   },
   "outputs": [
    {
     "data": {
      "text/plain": [
       "Piecewise(((sqrt(3)*pi**(3/2)*Piecewise((I/sqrt(-1 + polar_lift(2*a**2 + b**2)/(3*b**2)), Abs((2*a**2 + b**2)/b**2)/3 > 1), (1/sqrt(1 - polar_lift(2*a**2 + b**2)/(3*b**2)), True))*sqrt(polar_lift(2*a**2 + b**2))/(3*b) - 2*sqrt(pi)*(2*a**2 + b**2)*Piecewise((I*(sqrt(3)*I*acosh(sqrt(3)*sqrt(b**(-2))*sqrt(polar_lift(2*a**2 + b**2))/3)/(sqrt(b**(-2))*sqrt(polar_lift(2*a**2 + b**2))) + sqrt(3)*pi/(2*sqrt(b**(-2))*sqrt(polar_lift(2*a**2 + b**2))))/sqrt(-1 + polar_lift(2*a**2 + b**2)/(3*b**2)), Abs((2*a**2 + b**2)/b**2)/3 > 1), (sqrt(3)*asin(sqrt(3)*sqrt(b**(-2))*sqrt(polar_lift(2*a**2 + b**2))/3)/(sqrt(1 - polar_lift(2*a**2 + b**2)/(3*b**2))*sqrt(b**(-2))*sqrt(polar_lift(2*a**2 + b**2))), True))/(3*b**2))/(sqrt(pi)*sqrt(polar_lift(2*a**2 + b**2))), And(Abs(periodic_argument(1/polar_lift(2*a**2 + b**2), oo)) < pi, Abs(periodic_argument(polar_lift(b)**(-2), oo)) < pi)), (Integral(1/((b**2 + x)*sqrt(2*a**2 + b**2 + 3*x)), (x, 0, oo)), True))"
      ]
     },
     "execution_count": 2,
     "metadata": {},
     "output_type": "execute_result"
    }
   ],
   "source": [
    "integrate(1/((sqrt(3*x+2*a**2+b**2))*(x+b**2)),(x,0,oo))"
   ]
  },
  {
   "cell_type": "code",
   "execution_count": 3,
   "metadata": {
    "collapsed": false
   },
   "outputs": [
    {
     "data": {
      "text/plain": [
       "(-I*log(-I*a + x)/2 + I*log(I*a + x)/2)/a"
      ]
     },
     "execution_count": 3,
     "metadata": {},
     "output_type": "execute_result"
    }
   ],
   "source": [
    "integrate(1/(x**2+a**2), x)"
   ]
  },
  {
   "cell_type": "markdown",
   "metadata": {},
   "source": [
    "[sympy symbolic integration](http://docs.sympy.org/latest/modules/integrals/integrals.html?highlight=integral#sympy.integrals.line_integrate)"
   ]
  },
  {
   "cell_type": "markdown",
   "metadata": {},
   "source": [
    "### Matlab Code:"
   ]
  },
  {
   "cell_type": "markdown",
   "metadata": {},
   "source": [
    "```\n",
    " syms x a  b\n",
    " int(1/(sqrt(3*x+2*a^2+b^2)*(x+a^2)),x)\n",
    "```"
   ]
  },
  {
   "cell_type": "markdown",
   "metadata": {},
   "source": [
    "The MATLAB output is:\n",
    "```\n",
    "\n",
    "ans =\n",
    " \n",
    "(2*atan((2*a^2 + b^2 + 3*x)^(1/2)/(a^2 - b^2)^(1/2)))/(a^2 - b^2)^(1/2)\n",
    "\n",
    "```"
   ]
  },
  {
   "cell_type": "markdown",
   "metadata": {},
   "source": [
    "But Matlab can't calculate the inifity integration:\n",
    "```\n",
    " int(1/(sqrt(3*x+2*a^2+b^2)*(x+a^2)),x,0,inf)\n",
    "```"
   ]
  },
  {
   "cell_type": "markdown",
   "metadata": {},
   "source": [
    "### SageMath (Maxima) code:\n",
    "\n",
    "```\n",
    "var('s,h,r');\n",
    "assume(4*h^2-4*r^2>0)\n",
    "integrate(1/(sqrt(3*s+2*r^2+h^2)*(s+r^2)),s,0,oo)\n",
    "```\n",
    "But it's no output!\n",
    "\n",
    "and\n",
    "\n",
    "```\n",
    "assume(r!=0)\n",
    "integrate(1/(x^2+r^2),x)\n",
    "```\n",
    "It got the right output.\n",
    "\n",
    "[sagemath symbolic integration](http://doc.sagemath.org/html/en/reference/calculus/sage/symbolic/integration/integral.html)"
   ]
  },
  {
   "cell_type": "markdown",
   "metadata": {},
   "source": [
    "### Wolfram Code:\n",
    "```\n",
    "integral 1/(sqrt(3s+2r^2+h^2)*(s+r^2))  from s=0 to oo\n",
    "```\n",
    "\n",
    "Output:\n",
    "![wolfram ouput](./resources/MSP1711e843676hdg5f3c700001c82i145bfgiifd9.gif)\n"
   ]
  },
  {
   "cell_type": "markdown",
   "metadata": {
    "collapsed": true
   },
   "source": [
    "### Conclusion\n",
    "The Wolfram got the better result. And SageMath also does symbolic integration well."
   ]
  },
  {
   "cell_type": "code",
   "execution_count": null,
   "metadata": {
    "collapsed": true
   },
   "outputs": [],
   "source": []
  }
 ],
 "metadata": {
  "kernelspec": {
   "display_name": "Python 3",
   "language": "python",
   "name": "python3"
  },
  "language_info": {
   "codemirror_mode": {
    "name": "ipython",
    "version": 3
   },
   "file_extension": ".py",
   "mimetype": "text/x-python",
   "name": "python",
   "nbconvert_exporter": "python",
   "pygments_lexer": "ipython3",
   "version": "3.4.3"
  }
 },
 "nbformat": 4,
 "nbformat_minor": 0
}
